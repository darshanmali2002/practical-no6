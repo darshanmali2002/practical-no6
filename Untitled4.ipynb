{
  "nbformat": 4,
  "nbformat_minor": 0,
  "metadata": {
    "colab": {
      "name": "Untitled4.ipynb",
      "provenance": []
    },
    "kernelspec": {
      "name": "python3",
      "display_name": "Python 3"
    },
    "language_info": {
      "name": "python"
    }
  },
  "cells": [
    {
      "cell_type": "markdown",
      "source": [
        "Practical No:6 Write program to demostrate working with tuples in python."
      ],
      "metadata": {
        "id": "m5QoIEBjff_N"
      }
    },
    {
      "cell_type": "code",
      "source": [
        "tup1=(10,20,2.5,5000,\"ABC\",2.5E-2)\n",
        "tup2=(145,\"MAC\")\n",
        "\n",
        "#Display\n",
        "\n",
        "print(\"\\n\\n Tup-1 Elements \\n\", tup1)\n",
        "print(\"\\n\\n Tup-2 Elements \\n\", tup2)\n",
        "\n",
        "# Tuple operator\n",
        "\n",
        "print(\"\\n\\n 1. slice operator\")\n",
        "\n",
        "print (tup1[2:7])\n",
        "print(tup2[2:])\n",
        "\n",
        "print(\"\\n\\n2 concatination operator\")\n",
        "print(tup2*2)\n",
        "\n",
        "#Accesing Tuple Element by forward indexing\n",
        "\n",
        "print(\"\\n\\n Forward Indexing\")\n",
        "print(\"\\n\\n tup[0]=\", tup1[0])\n",
        "print(\"\\n\\ntup[1]=\", tup1[2])\n",
        "\n",
        "#Accessing tuple elements by backward indexing\n",
        "\n",
        "print(\"\\n\\n Backward Indexing\")\n",
        "print(\"\\n\\n tup1[-1]=\", tup1[-1])\n",
        "print(\"\\n\\n tup1[-2]=\", tup1[-2])\n",
        "\n",
        "#Tuple cannot be changed"
      ],
      "metadata": {
        "colab": {
          "base_uri": "https://localhost:8080/"
        },
        "id": "FSZcFvpufhLa",
        "outputId": "89c475cf-1985-4cb0-e3cc-e34248fa8f80"
      },
      "execution_count": 1,
      "outputs": [
        {
          "output_type": "stream",
          "name": "stdout",
          "text": [
            "\n",
            "\n",
            " Tup-1 Elements \n",
            " (10, 20, 2.5, 5000, 'ABC', 0.025)\n",
            "\n",
            "\n",
            " Tup-2 Elements \n",
            " (145, 'MAC')\n",
            "\n",
            "\n",
            " 1. slice operator\n",
            "(2.5, 5000, 'ABC', 0.025)\n",
            "()\n",
            "\n",
            "\n",
            "2 concatination operator\n",
            "(145, 'MAC', 145, 'MAC')\n",
            "\n",
            "\n",
            " Forward Indexing\n",
            "\n",
            "\n",
            " tup[0]= 10\n",
            "\n",
            "\n",
            "tup[1]= 2.5\n",
            "\n",
            "\n",
            " Backward Indexing\n",
            "\n",
            "\n",
            " tup1[-1]= 0.025\n",
            "\n",
            "\n",
            " tup1[-2]= ABC\n"
          ]
        }
      ]
    }
  ]
}